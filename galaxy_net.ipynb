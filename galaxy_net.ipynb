{
 "cells": [
  {
   "cell_type": "code",
   "execution_count": 8,
   "id": "e4f6594a",
   "metadata": {},
   "outputs": [],
   "source": [
    "import numpy as np\n",
    "import matplotlib.pyplot as plt\n"
   ]
  },
  {
   "cell_type": "code",
   "execution_count": 9,
   "id": "bd3462c1",
   "metadata": {},
   "outputs": [],
   "source": [
    "import torch\n",
    "import torch.nn as nn\n",
    "import torch.nn.functional as F\n",
    "import torchvision\n",
    "import torchvision.transforms as T\n"
   ]
  },
  {
   "cell_type": "code",
   "execution_count": 10,
   "id": "cb3416df",
   "metadata": {},
   "outputs": [],
   "source": [
    "# from tqdm import tqdm\n"
   ]
  },
  {
   "cell_type": "code",
   "execution_count": 11,
   "id": "6eba3ce7",
   "metadata": {},
   "outputs": [
    {
     "name": "stdout",
     "output_type": "stream",
     "text": [
      "device will be used as  cuda\n"
     ]
    }
   ],
   "source": [
    "device = torch.device('cuda' if torch.cuda.is_available() else 'cpu')\n",
    "print('device will be used as ', device)\n"
   ]
  },
  {
   "cell_type": "code",
   "execution_count": 13,
   "id": "2166bab3",
   "metadata": {},
   "outputs": [],
   "source": [
    "transform = T.Compose( [ T.ToTensor(), T.Normalize((0.5, 0.5, 0.5), (0.5, 0.5, 0.5)) ] )\n"
   ]
  },
  {
   "cell_type": "code",
   "execution_count": 16,
   "id": "65812abd",
   "metadata": {},
   "outputs": [],
   "source": [
    "i1 = 32\n",
    "i2 = 64\n",
    "i3 = 128\n",
    "i4 = 256\n",
    "i5 = 512\n",
    "class simplegalaxy(nn.Module):\n",
    "\n",
    "    def __init__(self, num_classes):\n",
    "        super().__init__()\n",
    "\n",
    "        self.layer1 = nn.Sequential(\n",
    "\n",
    "            nn.Conv2d(in_channels=3, out_channels=i1, kernel_size=3, padding=1),  # 3, 32x32 -> 32, 32x32\n",
    "            nn.BatchNorm2d(i1),\n",
    "            nn.ReLU(),\n",
    "            nn.Conv2d(in_channels=i1, out_channels=i2, kernel_size=3, padding=1),  # 3, 32x32 -> 32, 32x32\n",
    "            nn.BatchNorm2d(i2),\n",
    "            nn.ReLU(),\n",
    "            nn.MaxPool2d(2),  # 32, 32x32 -> 32, 16x16\n",
    "        )\n",
    "\n",
    "        self.layer2 = nn.Sequential(\n",
    "\n",
    "            nn.Conv2d(in_channels=i2, out_channels=i3, kernel_size=3, padding=1),  # 32, 16x16 -> 64, 16x16\n",
    "            nn.BatchNorm2d(i3),\n",
    "            nn.ReLU(),\n",
    "            nn.Conv2d(in_channels=i3, out_channels=i4, kernel_size=3, padding=1),  # 32, 16x16 -> 64, 16x16\n",
    "            nn.BatchNorm2d(i4),\n",
    "            nn.ReLU(),\n",
    "            nn.MaxPool2d(2),  # 64, 16x16 -> 64, 8x8\n",
    "        )\n",
    "\n",
    "        self.layer3 = nn.Sequential(\n",
    "\n",
    "            nn.Conv2d(in_channels=i4, out_channels=i5, kernel_size=3, padding=1),  # 32, 16x16 -> 64, 16x16\n",
    "            nn.BatchNorm2d(i5),\n",
    "            nn.ReLU(),\n",
    "            nn.MaxPool2d(2),  # 64, 16x16 -> 64, 8x8\n",
    "        )\n",
    "\n",
    "        self.fc = nn.Sequential(\n",
    "            nn.Dropout(p=0.2),\n",
    "            nn.ReLU(),\n",
    "            nn.Linear(i5 * 4 * 4, 64),\n",
    "            nn.ReLU(),\n",
    "            nn.Dropout(p=0.2),\n",
    "            nn.Linear(64, numclasses),            # 32 * 32 * 32 -> numclasses\n",
    "\n",
    "\n",
    "        )\n",
    "\n",
    "    def forward(self, x):\n",
    "        x = self.layer1(x)\n",
    "\n",
    "        x = self.layer2(x)\n",
    "\n",
    "        x = self.layer3(x)\n",
    "\n",
    "        x = x.view(x.size(0), -1)  # flatten\n",
    "\n",
    "        x = self.fc(x)\n",
    "\n",
    "        return x\n"
   ]
  },
  {
   "cell_type": "code",
   "execution_count": 17,
   "id": "157765b1",
   "metadata": {},
   "outputs": [],
   "source": [
    "# hyper-param\n",
    "# num_epochs = 10\n",
    "# batch_size = 20\n",
    "# learning_rate = 10**(-3)\n"
   ]
  },
  {
   "cell_type": "code",
   "execution_count": 18,
   "id": "59fc4790",
   "metadata": {},
   "outputs": [],
   "source": [
    "# train_loader = \n",
    "# test_loader = \n",
    "# print(train_set.data.shape)\n",
    "# print(test_set.data.shape)\n"
   ]
  },
  {
   "cell_type": "code",
   "execution_count": null,
   "id": "6b8503b5",
   "metadata": {},
   "outputs": [],
   "source": []
  }
 ],
 "metadata": {
  "kernelspec": {
   "display_name": "Python 3 (ipykernel)",
   "language": "python",
   "name": "python3"
  },
  "language_info": {
   "codemirror_mode": {
    "name": "ipython",
    "version": 3
   },
   "file_extension": ".py",
   "mimetype": "text/x-python",
   "name": "python",
   "nbconvert_exporter": "python",
   "pygments_lexer": "ipython3",
   "version": "3.9.7"
  }
 },
 "nbformat": 4,
 "nbformat_minor": 5
}
