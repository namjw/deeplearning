{
 "cells": [
  {
   "cell_type": "code",
   "execution_count": 1,
   "id": "68995fb3",
   "metadata": {},
   "outputs": [],
   "source": [
    "import numpy as np\n",
    "import matplotlib.pyplot as plt\n",
    "\n",
    "import os\n",
    "\n",
    "# from skimage import io, transform\n",
    "from PIL import Image\n",
    "\n",
    "from glob import glob\n",
    "\n",
    "import pandas as pd\n"
   ]
  },
  {
   "cell_type": "code",
   "execution_count": 2,
   "id": "f1a75e66",
   "metadata": {},
   "outputs": [],
   "source": [
    "import torch\n",
    "from torch.utils.data import Dataset, DataLoader\n"
   ]
  },
  {
   "cell_type": "code",
   "execution_count": 3,
   "id": "c45b6248",
   "metadata": {},
   "outputs": [],
   "source": [
    "img_path = glob('/home/jwnam/github/deeplearning/images_training_rev1/')[0]\n",
    "label_path = glob('/home/jwnam/github/deeplearning/training_solutions_rev1.csv')[0]"
   ]
  },
  {
   "cell_type": "code",
   "execution_count": 4,
   "id": "40a77d0f",
   "metadata": {},
   "outputs": [
    {
     "name": "stdout",
     "output_type": "stream",
     "text": [
      "/home/jwnam/github/deeplearning/training_solutions_rev1.csv\n"
     ]
    }
   ],
   "source": [
    "print(label_path)"
   ]
  },
  {
   "cell_type": "code",
   "execution_count": null,
   "id": "c58023c3",
   "metadata": {},
   "outputs": [],
   "source": [
    "# LABEL_HEAD = np.loadtxt(label_path, dtype='str', delimiter=',', )[0][1:]\n",
    "# print(LABEL_HEAD)"
   ]
  },
  {
   "cell_type": "code",
   "execution_count": null,
   "id": "140213eb",
   "metadata": {},
   "outputs": [],
   "source": [
    "# img_num = np.loadtxt(label_path, dtype='str0', delimiter=',', skiprows=1, usecols=(0))\n"
   ]
  },
  {
   "cell_type": "code",
   "execution_count": null,
   "id": "ad7dd66c",
   "metadata": {},
   "outputs": [],
   "source": [
    "# print(img_num)\n",
    "# print([i+'.jpg' for i in img_num])"
   ]
  },
  {
   "cell_type": "code",
   "execution_count": null,
   "id": "c00096a7",
   "metadata": {},
   "outputs": [],
   "source": [
    "# img_class = np.loadtxt('./data/training_solutions_rev1.csv', dtype='float', delimiter=',', skiprows=1, ).T[1:].T"
   ]
  },
  {
   "cell_type": "code",
   "execution_count": null,
   "id": "e4b9aafa",
   "metadata": {},
   "outputs": [],
   "source": [
    "# print(img_class)"
   ]
  },
  {
   "cell_type": "code",
   "execution_count": 5,
   "id": "d3def6e1",
   "metadata": {},
   "outputs": [],
   "source": [
    "class Galaxydataset(Dataset):\n",
    "    \n",
    "    def __init__(self, img_path=img_path, label_path=label_path, transform=None):\n",
    "        # classes = ['Class1.1', 'Class1.2', ...]\n",
    "        self.classes = np.loadtxt(label_path, dtype='str', delimiter=',',)[0][1:]\n",
    "        \n",
    "        # img_num = ['100008', ...]\n",
    "        self.img_num = np.loadtxt(label_path, dtype='str', delimiter=',', skiprows=1, usecols=(0))\n",
    "        \n",
    "        # img_class = [[0.383147, 0.616853, ...], ...]\n",
    "        self.img_class = np.loadtxt(label_path, dtype='float', delimiter=',', skiprows=1, ).T[1:].T\n",
    "    \n",
    "        self.tansform = transform\n",
    "        \n",
    "        self.img_list = [img_path+i+'.jpg' for i in img_num]\n",
    "        \n",
    "        \n",
    "    def __len__(self):\n",
    "        return len(self.img_num)\n",
    "    \n",
    "    \n",
    "    def __getitem__(self, idx):\n",
    "        \n",
    "        if torch.is_tensor(idx):\n",
    "            idx = idx.tolist()\n",
    "        \n",
    "        _img_filepath = self.img_list[idx]\n",
    "        _img = Image.open(_img_filepath)\n",
    "        \n",
    "        _label = self.img_class[idx]\n",
    "        \n",
    "        if self.transform is not None:\n",
    "            _img = self.transform(image=_img)[\"image\"]\n",
    "        \n",
    "        return _img, _label\n",
    "        \n",
    "        \n",
    "        \n",
    "        "
   ]
  },
  {
   "cell_type": "code",
   "execution_count": null,
   "id": "29ab1530",
   "metadata": {},
   "outputs": [],
   "source": []
  }
 ],
 "metadata": {
  "kernelspec": {
   "display_name": "Python 3 (ipykernel)",
   "language": "python",
   "name": "python3"
  },
  "language_info": {
   "codemirror_mode": {
    "name": "ipython",
    "version": 3
   },
   "file_extension": ".py",
   "mimetype": "text/x-python",
   "name": "python",
   "nbconvert_exporter": "python",
   "pygments_lexer": "ipython3",
   "version": "3.9.7"
  }
 },
 "nbformat": 4,
 "nbformat_minor": 5
}
