{
 "cells": [
  {
   "cell_type": "code",
   "execution_count": 1,
   "id": "68995fb3",
   "metadata": {},
   "outputs": [],
   "source": [
    "import numpy as np\n",
    "import os\n",
    "import matplotlib.pyplot as plt\n",
    "# from skimage import io, transform\n",
    "from PIL import Image\n",
    "import torch\n",
    "from torch.utils.data import Dataset, DataLoader\n",
    "\n",
    "from glob import glob"
   ]
  },
  {
   "cell_type": "code",
   "execution_count": null,
   "id": "c45b6248",
   "metadata": {},
   "outputs": [],
   "source": [
    "img_path = glob('./data/images_training_rev1/')"
   ]
  },
  {
   "cell_type": "code",
   "execution_count": 2,
   "id": "c58023c3",
   "metadata": {},
   "outputs": [
    {
     "name": "stdout",
     "output_type": "stream",
     "text": [
      "['Class1.1' 'Class1.2' 'Class1.3' 'Class2.1' 'Class2.2' 'Class3.1'\n",
      " 'Class3.2' 'Class4.1' 'Class4.2' 'Class5.1' 'Class5.2' 'Class5.3'\n",
      " 'Class5.4' 'Class6.1' 'Class6.2' 'Class7.1' 'Class7.2' 'Class7.3'\n",
      " 'Class8.1' 'Class8.2' 'Class8.3' 'Class8.4' 'Class8.5' 'Class8.6'\n",
      " 'Class8.7' 'Class9.1' 'Class9.2' 'Class9.3' 'Class10.1' 'Class10.2'\n",
      " 'Class10.3' 'Class11.1' 'Class11.2' 'Class11.3' 'Class11.4' 'Class11.5'\n",
      " 'Class11.6']\n"
     ]
    }
   ],
   "source": [
    "LABEL_HEAD = np.loadtxt('./data/training_solutions_rev1.csv', dtype='str', delimiter=',', )[0]\n",
    "\n",
    "print(LABEL_HEAD[1:])"
   ]
  },
  {
   "cell_type": "code",
   "execution_count": 3,
   "id": "140213eb",
   "metadata": {},
   "outputs": [],
   "source": [
    "img_num = np.loadtxt('./data/training_solutions_rev1.csv', dtype='str', delimiter=',', skiprows=1, usecols=(0))\n"
   ]
  },
  {
   "cell_type": "code",
   "execution_count": 10,
   "id": "ad7dd66c",
   "metadata": {},
   "outputs": [
    {
     "name": "stdout",
     "output_type": "stream",
     "text": [
      "['100008' '100023' '100053' ... '999958' '999964' '999967']\n",
      "100023.jpg\n"
     ]
    }
   ],
   "source": [
    "print(img_num)\n",
    "print(img_num[1]+'.jpg')"
   ]
  },
  {
   "cell_type": "code",
   "execution_count": 5,
   "id": "c00096a7",
   "metadata": {},
   "outputs": [],
   "source": [
    "img_class = np.loadtxt('./data/training_solutions_rev1.csv', dtype='float', delimiter=',', skiprows=1, ).T[1:].T"
   ]
  },
  {
   "cell_type": "code",
   "execution_count": 6,
   "id": "e4b9aafa",
   "metadata": {},
   "outputs": [
    {
     "name": "stdout",
     "output_type": "stream",
     "text": [
      "[[0.383147   0.616853   0.         ... 0.         0.         0.32551225]\n",
      " [0.327001   0.663777   0.009222   ... 0.         0.         0.        ]\n",
      " [0.765717   0.177352   0.056931   ... 0.         0.         0.        ]\n",
      " ...\n",
      " [0.202841   0.777376   0.019783   ... 0.         0.         0.07229626]\n",
      " [0.091      0.909      0.         ... 0.02306456 0.         0.04533378]\n",
      " [0.767      0.14       0.093      ... 0.         0.         0.02338   ]]\n"
     ]
    }
   ],
   "source": [
    "print(img_class)"
   ]
  },
  {
   "cell_type": "code",
   "execution_count": 7,
   "id": "c65c8d9d",
   "metadata": {},
   "outputs": [],
   "source": []
  },
  {
   "cell_type": "code",
   "execution_count": null,
   "id": "d3def6e1",
   "metadata": {},
   "outputs": [],
   "source": [
    "class Galaxydataset(Dataset):\n",
    "    \n",
    "    def __init__(self, transform=None):\n",
    "        self.class_label = LABEL_HEAD[1:]\n",
    "        self.img_num = img_num\n",
    "        self.img_class = img_class\n",
    "        self.img_path = img_path\n",
    "        \n",
    "    def __len__(self):\n",
    "        return len(img_num)\n",
    "    \n",
    "    def __getitem__(self, idx):\n",
    "        \n",
    "        if torch.is_tensor(idx):\n",
    "            idx = idx.tolist()\n",
    "        \n",
    "        _img = Image.open()\n",
    "        \n",
    "        \n",
    "        \n",
    "        "
   ]
  }
 ],
 "metadata": {
  "kernelspec": {
   "display_name": "Python 3 (ipykernel)",
   "language": "python",
   "name": "python3"
  },
  "language_info": {
   "codemirror_mode": {
    "name": "ipython",
    "version": 3
   },
   "file_extension": ".py",
   "mimetype": "text/x-python",
   "name": "python",
   "nbconvert_exporter": "python",
   "pygments_lexer": "ipython3",
   "version": "3.9.7"
  }
 },
 "nbformat": 4,
 "nbformat_minor": 5
}
